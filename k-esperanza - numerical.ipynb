{
 "cells": [
  {
   "cell_type": "code",
   "execution_count": 19,
   "metadata": {
    "collapsed": true
   },
   "outputs": [],
   "source": [
    "import numpy as np\n",
    "import matplotlib.pyplot as plt\n",
    "import scipy.misc, math"
   ]
  },
  {
   "cell_type": "markdown",
   "metadata": {},
   "source": [
    "$\\frac{1}{n!}\\sum_{i=0}^{n}t^{n-i}\\frac{(n-1+i)!}{(n-1)!}(-1)^i$"
   ]
  },
  {
   "cell_type": "code",
   "execution_count": 58,
   "metadata": {
    "collapsed": true
   },
   "outputs": [],
   "source": [
    "def f(t,n):\n",
    "    print \"t = \",t, n\n",
    "    log_t = np.log(t)\n",
    "    logterm = n*log_t - np.log(math.factorial(n)+0.0)\n",
    "    print np.power(np.e,logterm), np.power(t,n), math.factorial(n)+0.0\n",
    "    s = np.power(np.e,logterm)\n",
    "    for i in range(1,int(n+1)):\n",
    "        logterm = logterm + np.log(n-1+i) - log_t\n",
    "        print i, np.power(np.e,logterm),\n",
    "        s += np.power(np.e,logterm)*np.power(-1,i)\n",
    "        print s\n",
    "    print t, s\n",
    "    return s\n",
    "    \n"
   ]
  },
  {
   "cell_type": "code",
   "execution_count": 62,
   "metadata": {},
   "outputs": [
    {
     "name": "stdout",
     "output_type": "stream",
     "text": [
      "t =  7.35758882343 20.0\n",
      "0.0888353173921 2.1612762208e+17 2.43290200818e+18\n",
      "1 0.241479428992 -0.1526441116\n",
      "2 0.689229600965 0.536585489365\n",
      "3 2.06087232993 -1.52428684057\n",
      "4 6.44233657602 4.91804973545\n",
      "5 21.0145037369 -16.0964540014\n",
      "6 71.4041795526 55.3077255511\n",
      "7 252.32568888 -197.017963329\n",
      "8 925.954652163 728.936688835\n",
      "9 3523.80798693 -2794.8712981\n",
      "10 13889.1196659 11094.2483678\n",
      "11 56631.8124017 -45537.5640339\n",
      "12 238608.901174 193071.337141\n",
      "13 1037769.98427 -844698.647133\n",
      "14 4654569.62911 3809870.98198\n",
      "15 21509134.4716 -17699263.4896\n",
      "16 102318806.415 84619542.9254\n",
      "17 500636433.938 -416016891.012\n",
      "18 2517611203.92 2101594312.91\n",
      "19 13002795894.8 -10901201581.9\n",
      "20 68923264410.0 58022062828.1\n",
      "7.35758882343 58022062828.1\n"
     ]
    }
   ],
   "source": [
    "size = 100\n",
    "n = 20.\n",
    "t_r = 2*n*(1+1./np.e)\n",
    "t_array = np.linspace(.1,t_r, size)\n",
    "y_array = np.zeros_like(t_array)\n",
    "for i in range(1):\n",
    "    y_array[i] = f(n/np.e, n)"
   ]
  },
  {
   "cell_type": "code",
   "execution_count": null,
   "metadata": {
    "collapsed": true
   },
   "outputs": [],
   "source": []
  }
 ],
 "metadata": {
  "kernelspec": {
   "display_name": "Python 2",
   "language": "python",
   "name": "python2"
  },
  "language_info": {
   "codemirror_mode": {
    "name": "ipython",
    "version": 3
   },
   "file_extension": ".py",
   "mimetype": "text/x-python",
   "name": "python",
   "nbconvert_exporter": "python",
   "pygments_lexer": "ipython3",
   "version": "3.7.3"
  }
 },
 "nbformat": 4,
 "nbformat_minor": 2
}
